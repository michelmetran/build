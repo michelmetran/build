{
 "cells": [
  {
   "cell_type": "code",
   "execution_count": 3,
   "id": "c0ffd3c4-40a3-4652-89ff-7edceda2b466",
   "metadata": {},
   "outputs": [
    {
     "ename": "TypeError",
     "evalue": "'module' object is not callable",
     "output_type": "error",
     "traceback": [
      "\u001b[0;31m---------------------------------------------------------------------------\u001b[0m",
      "\u001b[0;31mTypeError\u001b[0m                                 Traceback (most recent call last)",
      "\u001b[1;32m/home/michel/Codes/open_traquitanas/arrebol/test/testes.ipynb Cell 1'\u001b[0m in \u001b[0;36m<cell line: 3>\u001b[0;34m()\u001b[0m\n\u001b[1;32m      <a href='vscode-notebook-cell:/home/michel/Codes/open_traquitanas/arrebol/test/testes.ipynb#ch0000000?line=0'>1</a>\u001b[0m \u001b[39mfrom\u001b[39;00m \u001b[39mconda_build\u001b[39;00m \u001b[39mimport\u001b[39;00m _load_setup_py_data\n\u001b[0;32m----> <a href='vscode-notebook-cell:/home/michel/Codes/open_traquitanas/arrebol/test/testes.ipynb#ch0000000?line=2'>3</a>\u001b[0m data \u001b[39m=\u001b[39m _load_setup_py_data()\n\u001b[1;32m      <a href='vscode-notebook-cell:/home/michel/Codes/open_traquitanas/arrebol/test/testes.ipynb#ch0000000?line=3'>4</a>\u001b[0m data\n",
      "\u001b[0;31mTypeError\u001b[0m: 'module' object is not callable"
     ]
    }
   ],
   "source": [
    "from conda_build import _load_setup_py_data\n",
    "\n",
    "data = _load_setup_py_data()\n",
    "data"
   ]
  },
  {
   "cell_type": "code",
   "execution_count": 1,
   "id": "36abb3ae",
   "metadata": {},
   "outputs": [],
   "source": [
    "import numpy.distutils.core"
   ]
  },
  {
   "cell_type": "code",
   "execution_count": null,
   "id": "4dcb94bd",
   "metadata": {},
   "outputs": [],
   "source": []
  }
 ],
 "metadata": {
  "interpreter": {
   "hash": "2bdda54bf0f28693adab761d90c570fb0a7faa3609b365313c0b5d078440c060"
  },
  "kernelspec": {
   "display_name": "Python 3.9.12 ('pablocarreira-py39')",
   "language": "python",
   "name": "python3"
  },
  "language_info": {
   "codemirror_mode": {
    "name": "ipython",
    "version": 3
   },
   "file_extension": ".py",
   "mimetype": "text/x-python",
   "name": "python",
   "nbconvert_exporter": "python",
   "pygments_lexer": "ipython3",
   "version": "3.9.12"
  }
 },
 "nbformat": 4,
 "nbformat_minor": 5
}
